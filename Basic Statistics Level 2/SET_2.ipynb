{
 "cells": [
  {
   "cell_type": "markdown",
   "id": "d00476b3",
   "metadata": {},
   "source": [
    "## Question 1"
   ]
  },
  {
   "cell_type": "code",
   "execution_count": 4,
   "id": "ca52b4f6",
   "metadata": {},
   "outputs": [],
   "source": [
    "import numpy as np\n",
    "import scipy.stats as stats\n",
    "import warnings\n",
    "warnings.filterwarnings('ignore')"
   ]
  },
  {
   "cell_type": "code",
   "execution_count": 15,
   "id": "059e7984",
   "metadata": {},
   "outputs": [
    {
     "name": "stdout",
     "output_type": "stream",
     "text": [
      "The probability of service manager cannot meet his commitment is  0.26599\n"
     ]
    }
   ],
   "source": [
    "# service work began after 10 mins of drop off so Mew=45+10=55\n",
    "Mew=55\n",
    "std_dev=8\n",
    "prob=1-stats.norm.cdf(60,loc=Mew,scale=std_dev)\n",
    "print('The probability of service manager cannot meet his commitment is ',np.round(prob,5))"
   ]
  },
  {
   "cell_type": "markdown",
   "id": "eea535c6",
   "metadata": {},
   "source": [
    "## Question 2"
   ]
  },
  {
   "cell_type": "markdown",
   "id": "f20bac62",
   "metadata": {},
   "source": [
    "### Q2) A."
   ]
  },
  {
   "cell_type": "code",
   "execution_count": 16,
   "id": "56bc4cfe",
   "metadata": {},
   "outputs": [],
   "source": [
    "Mew=38\n",
    "std_dev=6"
   ]
  },
  {
   "cell_type": "code",
   "execution_count": 32,
   "id": "4037a827",
   "metadata": {},
   "outputs": [
    {
     "name": "stdout",
     "output_type": "stream",
     "text": [
      "employees between 38 to 44 age= 137.0\n",
      "employees older than 44 age= 63.0\n",
      "False,More employees at the processing center are between 38 and 44 compared to employees older than 44.\n"
     ]
    }
   ],
   "source": [
    "# employees age less than 38\n",
    "emp_age_less_than_38=stats.norm.cdf(38,loc=Mew,scale=std_dev)\n",
    "# employees age greater than 44\n",
    "emp_age_less_than_44=stats.norm.cdf(44,loc=Mew,scale=std_dev)\n",
    "#employees age between 38 to 44\n",
    "emp_age_btw_38_to_44=emp_age_less_than_44 - emp_age_less_than_38\n",
    "print('employees between 38 to 44 age=',np.round(emp_age_btw_38_to_44*400))\n",
    "#employees age greater than 44\n",
    "emp_age_greater_than_44=1 - stats.norm.cdf(44,loc=Mew,scale=std_dev)\n",
    "print('employees older than 44 age=',np.round(emp_age_greater_than_44*400))\n",
    "if emp_age_btw_38_to_44 > emp_age_greater_than_44 :\n",
    "    print('False,More employees at the processing center are between 38 and 44 compared to employees older than 44.')\n",
    "else :\n",
    "    print('True,More employees at the processing center are older than 44 than between 38 and 44.')"
   ]
  },
  {
   "cell_type": "markdown",
   "id": "14d3c088",
   "metadata": {},
   "source": [
    "### Q2) B."
   ]
  },
  {
   "cell_type": "code",
   "execution_count": 34,
   "id": "902cab46",
   "metadata": {},
   "outputs": [],
   "source": [
    "Mew=38\n",
    "std_dev=6"
   ]
  },
  {
   "cell_type": "code",
   "execution_count": 36,
   "id": "a099f59c",
   "metadata": {},
   "outputs": [
    {
     "name": "stdout",
     "output_type": "stream",
     "text": [
      "A training program for employees under the age of 30 at the center would be expected to attract about 36.0 employees\n"
     ]
    }
   ],
   "source": [
    "# employees under the age of 30\n",
    "emp_under_30=stats.norm.cdf(30,loc=Mew,scale=std_dev)\n",
    "print('A training program for employees under the age of 30 at the center would be expected to attract about',np.round(emp_under_30*400),'employees')"
   ]
  },
  {
   "cell_type": "markdown",
   "id": "2bbc4085",
   "metadata": {},
   "source": [
    "## Question 4"
   ]
  },
  {
   "cell_type": "code",
   "execution_count": 37,
   "id": "7468b00d",
   "metadata": {},
   "outputs": [
    {
     "name": "stdout",
     "output_type": "stream",
     "text": [
      "The two values of a and b, symmetric about the mean, \n",
      "      are such that the probability of the random variable \n",
      "      taking a value between them is 0.99: [ 48.5 151.5]\n"
     ]
    }
   ],
   "source": [
    "print(\"\"\"The two values of a and b, symmetric about the mean, \n",
    "      are such that the probability of the random variable \n",
    "      taking a value between them is 0.99:\"\"\",np.round(stats.norm.interval(0.99, loc = 100, scale = 20),1))"
   ]
  },
  {
   "cell_type": "markdown",
   "id": "8ac30fc3",
   "metadata": {},
   "source": [
    "## Question 5"
   ]
  },
  {
   "cell_type": "markdown",
   "id": "a65fa5af",
   "metadata": {},
   "source": [
    "### 5. Consider a company that has two different divisions. The annual profits from the two divisions are independent and have distributions Profit1 ~ N(5, 3^2) and Profit2 ~ N(7, 4^2) respectively. Both the profits are in dollar Million. Answer the following questions about the total profit of the company in Rupees. Assume that 1 dollar = Rs. 45"
   ]
  },
  {
   "cell_type": "code",
   "execution_count": 47,
   "id": "4903c164",
   "metadata": {},
   "outputs": [
    {
     "name": "stdout",
     "output_type": "stream",
     "text": [
      "mean profit of both division is 12 Million$\n",
      "mean profit of both division is, 54.0 crore rupees\n",
      "standard deviation of both division is 5.0 Million$\n",
      "standard deviation of both division is 22.5 crore rupees\n"
     ]
    }
   ],
   "source": [
    "import math\n",
    "p1_mean=5\n",
    "p2_mean=7\n",
    "total_mean=p1_mean+p2_mean\n",
    "print('mean profit of both division is',total_mean,'Million$')\n",
    "print('mean profit of both division is,',(total_mean*45)/10,'crore rupees')\n",
    "p1_std=3**2\n",
    "p2_std=4**2\n",
    "std=np.sqrt(p1_std+p2_std)\n",
    "print('standard deviation of both division is',std,'Million$')\n",
    "print('standard deviation of both division is',(std*45)/10,'crore rupees')"
   ]
  },
  {
   "cell_type": "markdown",
   "id": "e55e51f6",
   "metadata": {},
   "source": [
    "### 5A.\tSpecify a Rupee range (centered on the mean) such that it contains 95% probability for the annual profit of the company."
   ]
  },
  {
   "cell_type": "code",
   "execution_count": 54,
   "id": "ec04838c",
   "metadata": {},
   "outputs": [
    {
     "name": "stdout",
     "output_type": "stream",
     "text": [
      "rupees ranges from 2.2 to 21.8 crore rupees it contains 95% probability for the annual profit of the company\n",
      "rupees ranges from 9.900000000000002 to 98.1 crore rupees it contains 95% probability for the annual profit of the company\n"
     ]
    }
   ],
   "source": [
    "r1,r2=np.round(stats.norm.interval(0.95,total_mean,std),2)\n",
    "print('rupees ranges from',r1,'to' ,r2, 'crore rupees it contains 95% probability for the annual profit of the company')\n",
    "print('rupees ranges from',(r1*45)/10,'to' ,(r2*45)/10, 'crore rupees it contains 95% probability for the annual profit of the company')"
   ]
  },
  {
   "cell_type": "markdown",
   "id": "c99a987d",
   "metadata": {},
   "source": [
    "### 5B.\tspecify the 5th percentile of profit (in Rupees) for the company"
   ]
  },
  {
   "cell_type": "code",
   "execution_count": 56,
   "id": "fc239c9f",
   "metadata": {},
   "outputs": [
    {
     "name": "stdout",
     "output_type": "stream",
     "text": [
      "The 5th percentile of Profit for the company is 3.78 Million$\n",
      "The 5th percentile of Profit for the company is 17.0 Crore Rupees\n"
     ]
    }
   ],
   "source": [
    "# Z value  = X_bar - Mew / Std pop \n",
    "# for percentile, X_percentile = (Zvalue * Std pop) + Mew\n",
    "Z_05_ = stats.norm.ppf(0.05)\n",
    "Fifth_percentile = (Z_05_ * std) + total_mean\n",
    "print('The 5th percentile of Profit for the company is',np.round(Fifth_percentile,2),'Million$')\n",
    "print('The 5th percentile of Profit for the company is',np.round((Fifth_percentile*45)/10,),'Crore Rupees')"
   ]
  },
  {
   "cell_type": "markdown",
   "id": "5e2dfb35",
   "metadata": {},
   "source": [
    "### 5C.\tWhich of the two divisions has a larger probability of making a loss in a given year?"
   ]
  },
  {
   "cell_type": "code",
   "execution_count": 59,
   "id": "0e156919",
   "metadata": {},
   "outputs": [
    {
     "name": "stdout",
     "output_type": "stream",
     "text": [
      "The Probability of Division #1 making a loss is 4.78 %\n",
      "The Probability of Division #2 making a loss is 4.01 %\n",
      "The Division 1 has a larger Probability of making a loss\n"
     ]
    }
   ],
   "source": [
    "# The probability of Division #1 making a loss\n",
    "print('The Probability of Division #1 making a loss is',np.round((stats.norm.cdf(0,5,3))*100,2),'%')\n",
    "\n",
    "# The probability of Division #2 making a loss\n",
    "print('The Probability of Division #2 making a loss is',np.round((stats.norm.cdf(0,7,4))*100,2),'%')\n",
    "\n",
    "Division_1 = (stats.norm.cdf(0,5,3))*100\n",
    "Division_2 = (stats.norm.cdf(0,7,4))*100\n",
    "\n",
    "if Division_1>Division_2:\n",
    "    print('The Division 1 has a larger Probability of making a loss')\n",
    "else:\n",
    "    print('The Division 2 has a larger Porbability of making a loss')"
   ]
  },
  {
   "cell_type": "code",
   "execution_count": null,
   "id": "e021290a",
   "metadata": {},
   "outputs": [],
   "source": []
  }
 ],
 "metadata": {
  "kernelspec": {
   "display_name": "Python 3 (ipykernel)",
   "language": "python",
   "name": "python3"
  },
  "language_info": {
   "codemirror_mode": {
    "name": "ipython",
    "version": 3
   },
   "file_extension": ".py",
   "mimetype": "text/x-python",
   "name": "python",
   "nbconvert_exporter": "python",
   "pygments_lexer": "ipython3",
   "version": "3.11.5"
  }
 },
 "nbformat": 4,
 "nbformat_minor": 5
}
